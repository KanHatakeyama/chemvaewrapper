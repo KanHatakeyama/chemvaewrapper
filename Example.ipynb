{
 "cells": [
  {
   "cell_type": "markdown",
   "metadata": {},
   "source": [
    "# Example code of converting chemicals"
   ]
  },
  {
   "cell_type": "code",
   "execution_count": 1,
   "metadata": {},
   "outputs": [
    {
     "name": "stderr",
     "output_type": "stream",
     "text": [
      "Using backend: pytorch\n"
     ]
    }
   ],
   "source": [
    "from chemvaewrapper.JTNNWrapper import JTNNWapper"
   ]
  },
  {
   "cell_type": "code",
   "execution_count": 2,
   "metadata": {},
   "outputs": [
    {
     "name": "stdout",
     "output_type": "stream",
     "text": [
      "Downloading JTNN_ZINC_pre_trained.pth from https://data.dgl.ai/pre_trained/JTNN_ZINC.pth...\n",
      "Pretrained model loaded\n"
     ]
    }
   ],
   "source": [
    "#init junction tree variational autoencoder\n",
    "#load pretrained model of dgl-life\n",
    "jtnn=JTNNWapper()"
   ]
  },
  {
   "cell_type": "markdown",
   "metadata": {},
   "source": [
    "# SMILES to Vec"
   ]
  },
  {
   "cell_type": "code",
   "execution_count": 3,
   "metadata": {},
   "outputs": [
    {
     "name": "stdout",
     "output_type": "stream",
     "text": [
      "Downloading C:\\Users\\kan\\.dgl/jtnn.zip from https://data.dgl.ai/dataset/jtnn.zip...\n",
      "Loading data...\n",
      "Loading finished\n",
      "\t# samples: 1\n"
     ]
    },
    {
     "data": {
      "application/vnd.jupyter.widget-view+json": {
       "model_id": "0048267796e0431587e68841b25f6726",
       "version_major": 2,
       "version_minor": 0
      },
      "text/plain": [
       "HBox(children=(HTML(value=''), FloatProgress(value=0.0, max=1.0), HTML(value='')))"
      ]
     },
     "metadata": {},
     "output_type": "display_data"
    },
    {
     "name": "stdout",
     "output_type": "stream",
     "text": [
      "\n"
     ]
    },
    {
     "data": {
      "text/plain": [
       "array([[ 9.0299540e+00,  1.6027869e+00, -6.3793540e+00, -6.2693586e+00,\n",
       "        -1.0010278e+01, -9.3683505e-01, -1.1882930e+01, -1.6498973e+00,\n",
       "        -9.0266542e+00, -5.7713661e+00, -4.4757378e-01,  5.5461230e+00,\n",
       "        -9.9665899e+00,  5.0983648e+00, -4.2833114e+00, -4.9438548e+00,\n",
       "         4.6617632e+00, -9.7915115e+00, -5.8406801e+00, -8.5268945e-01,\n",
       "         3.0883129e+00,  3.6600442e+00,  7.3220563e+00, -6.4187860e+00,\n",
       "         5.0460238e+00, -5.8049545e+00,  6.4639765e-01, -3.8283682e+00,\n",
       "         7.2659308e-01,  4.5951933e-01,  1.3413136e+00, -2.2185028e+00,\n",
       "        -1.1007569e+00, -7.7544415e-01, -1.2338551e-01,  1.0487974e+00,\n",
       "        -7.2940698e+00,  9.5386100e-01,  7.5926442e+00,  3.7803558e-01,\n",
       "        -8.1033391e-01,  8.1362976e-03,  7.4152239e-02, -2.2020042e+00,\n",
       "         1.8523676e+00,  8.8302279e-01,  1.4323932e+00,  4.8732451e-01,\n",
       "         7.6599818e-01,  2.8638198e+00, -2.2787662e+00, -2.7542198e-01,\n",
       "         9.4496623e-02,  1.2076411e+00, -1.5076030e+00, -1.5020764e+00]],\n",
       "      dtype=float32)"
      ]
     },
     "execution_count": 3,
     "metadata": {},
     "output_type": "execute_result"
    }
   ],
   "source": [
    "smiles_list=[\"CC1=C(C)CCCC1\"]\n",
    "vec_array=jtnn.encode(smiles_list)\n",
    "vec_array"
   ]
  },
  {
   "cell_type": "markdown",
   "metadata": {},
   "source": [
    "# Vec to SMILES"
   ]
  },
  {
   "cell_type": "code",
   "execution_count": 4,
   "metadata": {},
   "outputs": [
    {
     "data": {
      "text/plain": [
       "['CC1=C(C)CCCC1']"
      ]
     },
     "execution_count": 4,
     "metadata": {},
     "output_type": "execute_result"
    }
   ],
   "source": [
    "jtnn.decode(vec_array)"
   ]
  },
  {
   "cell_type": "markdown",
   "metadata": {},
   "source": [
    "# Add some noise"
   ]
  },
  {
   "cell_type": "code",
   "execution_count": 5,
   "metadata": {},
   "outputs": [
    {
     "name": "stdout",
     "output_type": "stream",
     "text": [
      "['CC1=C(C)CCCC1']\n",
      "['CC1=C(C)CCCC1']\n",
      "['CC1=C(C)CCCC1']\n",
      "['CC1=C(c2ccccc2)CCCC1']\n",
      "['CCC1=CN=CN[C@@]12COC=C(C)[C@H]2[NH3+]']\n",
      "['CC[C@H]1NC=NC=C1c1oncc1C']\n",
      "['CC1=CC(=O)[C@H](SCC(F)F)[NH+]=C1']\n",
      "[None]\n",
      "[None]\n",
      "error! 0\n",
      "['Error']\n"
     ]
    },
    {
     "name": "stderr",
     "output_type": "stream",
     "text": [
      "C:\\Users\\kan\\anaconda3\\envs\\mi\\lib\\site-packages\\dgl\\base.py:45: DGLWarning: The input graph for the user-defined edge function does not contain valid edges\n",
      "  return warnings.warn(message, category=category, stacklevel=1)\n"
     ]
    }
   ],
   "source": [
    "import numpy as np\n",
    "\n",
    "\n",
    "for i in range(10):\n",
    "    noise=np.random.randn(vec_array[0].shape[0])\n",
    "    sm=jtnn.decode(vec_array+noise*i)\n",
    "    print(sm)"
   ]
  },
  {
   "cell_type": "code",
   "execution_count": null,
   "metadata": {},
   "outputs": [],
   "source": []
  }
 ],
 "metadata": {
  "kernelspec": {
   "display_name": "Environment (conda_mi)",
   "language": "python",
   "name": "conda_mi"
  },
  "language_info": {
   "codemirror_mode": {
    "name": "ipython",
    "version": 3
   },
   "file_extension": ".py",
   "mimetype": "text/x-python",
   "name": "python",
   "nbconvert_exporter": "python",
   "pygments_lexer": "ipython3",
   "version": "3.7.9"
  }
 },
 "nbformat": 4,
 "nbformat_minor": 4
}
